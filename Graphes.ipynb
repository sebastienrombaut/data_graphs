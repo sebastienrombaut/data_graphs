{
 "cells": [
  {
   "cell_type": "code",
   "execution_count": 246,
   "id": "ca330620",
   "metadata": {},
   "outputs": [],
   "source": [
    "import pandas as pd\n",
    "import seaborn as sns\n",
    "import numpy as np\n",
    "from matplotlib import pyplot as plt\n",
    "import re"
   ]
  },
  {
   "cell_type": "markdown",
   "id": "eafa49c2",
   "metadata": {},
   "source": [
    "### Réaliser un graphique avec deux axes. L'axe des abscisses va de 0 à 50 et s'intitule \"Axe des x\". L'axe des ordonnées s'intitule \"Axe des y\".\n",
    "Tracer la droite d'équation : x = 3y. Avec x allant de 0 à 50.\n",
    "Le graphe possède le titre suivant \"Tracer une droite\" et la droite est de couleur rouge."
   ]
  },
  {
   "cell_type": "code",
   "execution_count": 2,
   "id": "c6ee86f9",
   "metadata": {},
   "outputs": [],
   "source": [
    "def f(x):\n",
    "    return x*3\n",
    "\n"
   ]
  },
  {
   "cell_type": "code",
   "execution_count": 8,
   "id": "2b1a3459",
   "metadata": {},
   "outputs": [
    {
     "data": {
      "image/png": "[encoded data removed]",
      "text/plain": [
       "<Figure size 432x288 with 1 Axes>"
      ]
     },
     "metadata": {
      "needs_background": "light"
     },
     "output_type": "display_data"
    }
   ],
   "source": [
    "plt.plot([f(x) for x in range(50)], color = \"C1\")\n",
    "plt.title('Tracer une droite')\n",
    "\n",
    "plt.show()"
   ]
  },
  {
   "cell_type": "markdown",
   "id": "2f2ad44a",
   "metadata": {},
   "source": [
    "### En premier lieu, nous souhaitons un graphe qui donne la courbe du profit total réalisé chaque mois."
   ]
  },
  {
   "cell_type": "code",
   "execution_count": 12,
   "id": "cb5c3815",
   "metadata": {},
   "outputs": [
    {
     "data": {
      "text/html": [
       "<div>\n",
       "<style scoped>\n",
       "    .dataframe tbody tr th:only-of-type {\n",
       "        vertical-align: middle;\n",
       "    }\n",
       "\n",
       "    .dataframe tbody tr th {\n",
       "        vertical-align: top;\n",
       "    }\n",
       "\n",
       "    .dataframe thead th {\n",
       "        text-align: right;\n",
       "    }\n",
       "</style>\n",
       "<table border=\"1\" class=\"dataframe\">\n",
       "  <thead>\n",
       "    <tr style=\"text-align: right;\">\n",
       "      <th></th>\n",
       "      <th>month_number</th>\n",
       "      <th>facecream</th>\n",
       "      <th>facewash</th>\n",
       "      <th>toothpaste</th>\n",
       "      <th>bathingsoap</th>\n",
       "      <th>shampoo</th>\n",
       "      <th>moisturizer</th>\n",
       "      <th>total_units</th>\n",
       "      <th>total_profit</th>\n",
       "    </tr>\n",
       "  </thead>\n",
       "  <tbody>\n",
       "    <tr>\n",
       "      <th>0</th>\n",
       "      <td>1</td>\n",
       "      <td>2500</td>\n",
       "      <td>1500</td>\n",
       "      <td>5200</td>\n",
       "      <td>9200</td>\n",
       "      <td>1200</td>\n",
       "      <td>1500</td>\n",
       "      <td>21100</td>\n",
       "      <td>211000</td>\n",
       "    </tr>\n",
       "    <tr>\n",
       "      <th>1</th>\n",
       "      <td>2</td>\n",
       "      <td>2630</td>\n",
       "      <td>1200</td>\n",
       "      <td>5100</td>\n",
       "      <td>6100</td>\n",
       "      <td>2100</td>\n",
       "      <td>1200</td>\n",
       "      <td>18330</td>\n",
       "      <td>183300</td>\n",
       "    </tr>\n",
       "    <tr>\n",
       "      <th>2</th>\n",
       "      <td>3</td>\n",
       "      <td>2140</td>\n",
       "      <td>1340</td>\n",
       "      <td>4550</td>\n",
       "      <td>9550</td>\n",
       "      <td>3550</td>\n",
       "      <td>1340</td>\n",
       "      <td>22470</td>\n",
       "      <td>224700</td>\n",
       "    </tr>\n",
       "    <tr>\n",
       "      <th>3</th>\n",
       "      <td>4</td>\n",
       "      <td>3400</td>\n",
       "      <td>1130</td>\n",
       "      <td>5870</td>\n",
       "      <td>8870</td>\n",
       "      <td>1870</td>\n",
       "      <td>1130</td>\n",
       "      <td>22270</td>\n",
       "      <td>222700</td>\n",
       "    </tr>\n",
       "    <tr>\n",
       "      <th>4</th>\n",
       "      <td>5</td>\n",
       "      <td>3600</td>\n",
       "      <td>1740</td>\n",
       "      <td>4560</td>\n",
       "      <td>7760</td>\n",
       "      <td>1560</td>\n",
       "      <td>1740</td>\n",
       "      <td>20960</td>\n",
       "      <td>209600</td>\n",
       "    </tr>\n",
       "  </tbody>\n",
       "</table>\n",
       "</div>"
      ],
      "text/plain": [
       "   month_number  facecream  facewash  toothpaste  bathingsoap  shampoo  \\\n",
       "0             1       2500      1500        5200         9200     1200   \n",
       "1             2       2630      1200        5100         6100     2100   \n",
       "2             3       2140      1340        4550         9550     3550   \n",
       "3             4       3400      1130        5870         8870     1870   \n",
       "4             5       3600      1740        4560         7760     1560   \n",
       "\n",
       "   moisturizer  total_units  total_profit  \n",
       "0         1500        21100        211000  \n",
       "1         1200        18330        183300  \n",
       "2         1340        22470        224700  \n",
       "3         1130        22270        222700  \n",
       "4         1740        20960        209600  "
      ]
     },
     "execution_count": 12,
     "metadata": {},
     "output_type": "execute_result"
    }
   ],
   "source": [
    "df_sales = pd.read_csv('./company_sales_data.csv', encoding='utf-8',  sep=',')\n",
    "df_sales.describe(include='all')  \n",
    "df_sales.head()"
   ]
  },
  {
   "cell_type": "code",
   "execution_count": 14,
   "id": "0eafccdf",
   "metadata": {},
   "outputs": [
    {
     "data": {
      "image/png": "[encoded data removed]",
      "text/plain": [
       "<Figure size 432x288 with 1 Axes>"
      ]
     },
     "metadata": {
      "needs_background": "light"
     },
     "output_type": "display_data"
    }
   ],
   "source": [
    "plt.plot(df_sales.month_number, df_sales.total_profit)\n",
    "plt.title('Profit / mois')\n",
    "\n",
    "plt.show()"
   ]
  },
  {
   "cell_type": "markdown",
   "id": "7bcf1a8c",
   "metadata": {},
   "source": [
    "### Ensuite, nous souhaitons un graphe qui donne la courbe de profit pour chaque produit, en fonction du temps.\n",
    "Chaque courbe aura une couleur différente et nous souhaitons une légende qui indique quelle couleur correspond à quel produit."
   ]
  },
  {
   "cell_type": "code",
   "execution_count": 35,
   "id": "c93dc085",
   "metadata": {},
   "outputs": [
    {
     "data": {
      "image/png": "[encoded data removed]",
      "text/plain": [
       "<Figure size 432x288 with 1 Axes>"
      ]
     },
     "metadata": {
      "needs_background": "light"
     },
     "output_type": "display_data"
    }
   ],
   "source": [
    "plt.plot(df_sales.month_number, df_sales.facecream, label='Facecream')\n",
    "plt.plot(df_sales.month_number, df_sales.toothpaste, label='Toothpaste')\n",
    "plt.plot(df_sales.month_number, df_sales.bathingsoap, label='Bathingsoap')\n",
    "plt.plot(df_sales.month_number, df_sales.shampoo, label='Shampoo')\n",
    "plt.plot(df_sales.month_number, df_sales.moisturizer, label='Moisturizer')\n",
    "plt.plot(df_sales.month_number, df_sales.facewash, label='Facewash')\n",
    "\n",
    "plt.legend(loc='upper left', frameon=False)\n",
    "plt.title('Profit / produit')\n",
    "\n",
    "plt.show()"
   ]
  },
  {
   "cell_type": "markdown",
   "id": "da70cd45",
   "metadata": {},
   "source": [
    "### Nous souhaitons un graphe qui compare, chaque mois, le nombre d'unités vendus pour chaque produit. A vous de choisir la meilleure représentation pour connaître le produit le plus vendu par mois."
   ]
  },
  {
   "cell_type": "code",
   "execution_count": 75,
   "id": "7f31c2d0",
   "metadata": {},
   "outputs": [
    {
     "data": {
      "image/png": "[encoded data removed]",
      "text/plain": [
       "<Figure size 720x720 with 1 Axes>"
      ]
     },
     "metadata": {
      "needs_background": "light"
     },
     "output_type": "display_data"
    }
   ],
   "source": [
    "bar_width = 0.1\n",
    "index = np.arange(df_sales.month_number.size)\n",
    "\n",
    "fig, ax = plt.subplots()\n",
    "fig.set_size_inches(10, 10)\n",
    "\n",
    "facecream = ax.bar(index, df_sales.facecream, bar_width, label=\"facecream\")\n",
    "facewash = ax.bar(index+bar_width, df_sales.facewash, bar_width, label=\"facewash\")\n",
    "toothpaste = ax.bar(index + 2*bar_width , df_sales.toothpaste, bar_width, label=\"toothpaste\")\n",
    "bathingsoap = ax.bar(index + 3*bar_width , df_sales.bathingsoap, bar_width, label=\"bathingsoap\")\n",
    "shampoo = ax.bar(index + 4*bar_width , df_sales.shampoo, bar_width, label=\"shampoo\")\n",
    "moisturizer = ax.bar(index + 5*bar_width , df_sales.moisturizer, bar_width, label=\"moisturizer\")\n",
    "\n",
    "ax.set_xlabel('Month')\n",
    "ax.set_ylabel('Profit')\n",
    "ax.set_title('Histogramme ventes / produit')\n",
    "ax.set_xticks(index + bar_width / 2)\n",
    "ax.set_xticklabels([\"1\", \"2\", \"3\", \"4\", \"5\", \"6\", \"7\", \"8\", \"9\", \"10\", \"11\", \"12\"])\n",
    "ax.legend()\n",
    "\n",
    "plt.show()"
   ]
  },
  {
   "cell_type": "markdown",
   "id": "d3135224",
   "metadata": {},
   "source": [
    "### Nous souhaitons un graphe qui donne la contribution de chaque produit dans le profit total (sur l'année étudiée). Merci d'ajouter le pourcentage pour chaque produit.\n",
    "\n"
   ]
  },
  {
   "cell_type": "code",
   "execution_count": 82,
   "id": "cffda7ef",
   "metadata": {},
   "outputs": [
    {
     "data": {
      "image/png": "[encoded data removed]",
      "text/plain": [
       "<Figure size 432x288 with 1 Axes>"
      ]
     },
     "metadata": {},
     "output_type": "display_data"
    }
   ],
   "source": [
    "plt.pie([df_sales.facecream.sum(), df_sales.facewash.sum(), df_sales.moisturizer.sum(), df_sales.shampoo.sum(), df_sales.toothpaste.sum(), df_sales.bathingsoap.sum()], \n",
    "        labels = [\"Facecream\", \"Facewash\", \"Moisturizer\", \"Shampoo\", \"Toothpaste\", \"Bathingsoap\"],\n",
    "       autopct =\"%1.0f%%\")\n",
    "\n",
    "plt.title('Répartition vente / produit')\n",
    "\n",
    "plt.show()"
   ]
  },
  {
   "cell_type": "markdown",
   "id": "c3a50a63",
   "metadata": {},
   "source": [
    "### D'abord, nous souhaitons avoir un graphe pie chart qui donne la répartition des produits par catégorie. Merci d'indiquer le pourcentage par produit (nb de produits de telle catégorie / nb de produits totaux).\n",
    "\n"
   ]
  },
  {
   "cell_type": "code",
   "execution_count": 83,
   "id": "9a8f341b",
   "metadata": {},
   "outputs": [],
   "source": [
    "df_customer = pd.read_csv('../J3_statistiques/customers.csv', encoding='utf-8',  sep=',')\n",
    "df_product = pd.read_csv('../J3_statistiques/products.csv', encoding='utf-8',  sep=',')\n",
    "df_transaction = pd.read_csv('../J3_statistiques/transactions.csv', encoding='utf-8',  sep=',')"
   ]
  },
  {
   "cell_type": "code",
   "execution_count": 95,
   "id": "6168fa3e",
   "metadata": {},
   "outputs": [],
   "source": [
    "df_transaction[\"date_cleaned\"] = df_transaction['date'].str[0:10]\n",
    "df_transaction[\"time\"] = df_transaction['date'].str[11:19]\n",
    "df_transaction[df_transaction['date_cleaned'] >= '2022-01-01']\n",
    "df_transaction = df_transaction.drop(df_transaction[df_transaction['date_cleaned'] >= '2022-01-01'].index)\n",
    "df_transaction['date_cleaned'] = pd.to_datetime(df_transaction[\"date_cleaned\"], format = '%Y-%m-%d' )\n",
    "df_transaction['time'] = pd.to_datetime(df_transaction['time'], format= '%H:%M:%S').dt.time\n",
    "df_product[df_product['price'] <= 0]\n",
    "df_product = df_product.drop(df_product[df_product['price'] <= 0].index)"
   ]
  },
  {
   "cell_type": "code",
   "execution_count": 153,
   "id": "30a7a41f",
   "metadata": {},
   "outputs": [
    {
     "data": {
      "text/html": [
       "<div>\n",
       "<style scoped>\n",
       "    .dataframe tbody tr th:only-of-type {\n",
       "        vertical-align: middle;\n",
       "    }\n",
       "\n",
       "    .dataframe tbody tr th {\n",
       "        vertical-align: top;\n",
       "    }\n",
       "\n",
       "    .dataframe thead th {\n",
       "        text-align: right;\n",
       "    }\n",
       "</style>\n",
       "<table border=\"1\" class=\"dataframe\">\n",
       "  <thead>\n",
       "    <tr style=\"text-align: right;\">\n",
       "      <th></th>\n",
       "      <th>id_prod</th>\n",
       "      <th>price</th>\n",
       "      <th>categ</th>\n",
       "      <th>date</th>\n",
       "      <th>session_id</th>\n",
       "      <th>client_id</th>\n",
       "      <th>date_cleaned</th>\n",
       "      <th>time</th>\n",
       "      <th>sex</th>\n",
       "      <th>birth</th>\n",
       "    </tr>\n",
       "  </thead>\n",
       "  <tbody>\n",
       "    <tr>\n",
       "      <th>0</th>\n",
       "      <td>0_1421</td>\n",
       "      <td>19.99</td>\n",
       "      <td>0</td>\n",
       "      <td>2021-05-12 23:26:29.885083</td>\n",
       "      <td>s_33709</td>\n",
       "      <td>c_7954</td>\n",
       "      <td>2021-05-12</td>\n",
       "      <td>23:26:29</td>\n",
       "      <td>m</td>\n",
       "      <td>1973</td>\n",
       "    </tr>\n",
       "    <tr>\n",
       "      <th>1</th>\n",
       "      <td>0_1142</td>\n",
       "      <td>3.42</td>\n",
       "      <td>0</td>\n",
       "      <td>2021-03-24 00:54:59.507581</td>\n",
       "      <td>s_10590</td>\n",
       "      <td>c_7954</td>\n",
       "      <td>2021-03-24</td>\n",
       "      <td>00:54:59</td>\n",
       "      <td>m</td>\n",
       "      <td>1973</td>\n",
       "    </tr>\n",
       "    <tr>\n",
       "      <th>2</th>\n",
       "      <td>0_1446</td>\n",
       "      <td>8.09</td>\n",
       "      <td>0</td>\n",
       "      <td>2021-11-26 18:04:33.019608</td>\n",
       "      <td>s_125461</td>\n",
       "      <td>c_7954</td>\n",
       "      <td>2021-11-26</td>\n",
       "      <td>18:04:33</td>\n",
       "      <td>m</td>\n",
       "      <td>1973</td>\n",
       "    </tr>\n",
       "    <tr>\n",
       "      <th>3</th>\n",
       "      <td>0_2291</td>\n",
       "      <td>12.99</td>\n",
       "      <td>0</td>\n",
       "      <td>2021-05-29 18:25:02.094891</td>\n",
       "      <td>s_41299</td>\n",
       "      <td>c_7954</td>\n",
       "      <td>2021-05-29</td>\n",
       "      <td>18:25:02</td>\n",
       "      <td>m</td>\n",
       "      <td>1973</td>\n",
       "    </tr>\n",
       "    <tr>\n",
       "      <th>4</th>\n",
       "      <td>1_385</td>\n",
       "      <td>25.99</td>\n",
       "      <td>1</td>\n",
       "      <td>2021-06-01 20:41:40.157683</td>\n",
       "      <td>s_42731</td>\n",
       "      <td>c_7954</td>\n",
       "      <td>2021-06-01</td>\n",
       "      <td>20:41:40</td>\n",
       "      <td>m</td>\n",
       "      <td>1973</td>\n",
       "    </tr>\n",
       "  </tbody>\n",
       "</table>\n",
       "</div>"
      ],
      "text/plain": [
       "  id_prod  price  categ                        date session_id client_id  \\\n",
       "0  0_1421  19.99      0  2021-05-12 23:26:29.885083    s_33709    c_7954   \n",
       "1  0_1142   3.42      0  2021-03-24 00:54:59.507581    s_10590    c_7954   \n",
       "2  0_1446   8.09      0  2021-11-26 18:04:33.019608   s_125461    c_7954   \n",
       "3  0_2291  12.99      0  2021-05-29 18:25:02.094891    s_41299    c_7954   \n",
       "4   1_385  25.99      1  2021-06-01 20:41:40.157683    s_42731    c_7954   \n",
       "\n",
       "  date_cleaned      time sex  birth  \n",
       "0   2021-05-12  23:26:29   m   1973  \n",
       "1   2021-03-24  00:54:59   m   1973  \n",
       "2   2021-11-26  18:04:33   m   1973  \n",
       "3   2021-05-29  18:25:02   m   1973  \n",
       "4   2021-06-01  20:41:40   m   1973  "
      ]
     },
     "execution_count": 153,
     "metadata": {},
     "output_type": "execute_result"
    }
   ],
   "source": [
    "df_all = pd.merge(df_product, df_transaction, left_on=\"id_prod\", right_on=\"id_prod\")\n",
    "df_all = pd.merge(df_all, df_customer, left_on=\"client_id\", right_on=\"client_id\")\n",
    "df_all.head()"
   ]
  },
  {
   "cell_type": "code",
   "execution_count": 101,
   "id": "054a6391",
   "metadata": {},
   "outputs": [
    {
     "data": {
      "text/plain": [
       "14347"
      ]
     },
     "execution_count": 101,
     "metadata": {},
     "output_type": "execute_result"
    }
   ],
   "source": [
    "len(df_all[df_all.categ == 2])"
   ]
  },
  {
   "cell_type": "code",
   "execution_count": 116,
   "id": "49577009",
   "metadata": {
    "scrolled": true
   },
   "outputs": [
    {
     "data": {
      "image/png": "[encoded data removed]",
      "text/plain": [
       "<Figure size 432x288 with 1 Axes>"
      ]
     },
     "metadata": {},
     "output_type": "display_data"
    }
   ],
   "source": [
    "plt.pie([df_all[df_all.categ == 0].id_prod.unique().size, df_all[df_all.categ == 1].id_prod.unique().size, df_all[df_all.categ == 2].id_prod.unique().size], \n",
    "        labels = [\"Categ 0\", \"Categ 1\", \"Categ 2\"],autopct =\"%1.0f%%\")\n",
    "\n",
    "plt.title('Répartition nb produits / catégorie')\n",
    "\n",
    "plt.show()"
   ]
  },
  {
   "cell_type": "markdown",
   "id": "d7192307",
   "metadata": {},
   "source": [
    "### Nous souhaitons un graphe qui donne l'évolution du CA pour chaque catégorie (en fonction du temps).\n",
    "\n"
   ]
  },
  {
   "cell_type": "code",
   "execution_count": 154,
   "id": "0d7ca6b1",
   "metadata": {},
   "outputs": [
    {
     "data": {
      "text/plain": [
       "09    33254\n",
       "12    32417\n",
       "03    28559\n",
       "04    28401\n",
       "11    28267\n",
       "05    28237\n",
       "06    26812\n",
       "08    25610\n",
       "07    24712\n",
       "10    21577\n",
       "Name: month, dtype: int64"
      ]
     },
     "execution_count": 154,
     "metadata": {},
     "output_type": "execute_result"
    }
   ],
   "source": [
    "def extract_month(date):\n",
    "    result = re.search(\"^\\d{4}-(\\d{2})\", date)\n",
    "    \n",
    "    try:\n",
    "        result = result.group(1)\n",
    "    except:\n",
    "        0\n",
    "    return result\n",
    "\n",
    "df_all[\"month\"] = [extract_month(date) for date in df_all[\"date\"]]\n",
    "df_all.month.value_counts()"
   ]
  },
  {
   "cell_type": "code",
   "execution_count": 155,
   "id": "4e65f5a8",
   "metadata": {},
   "outputs": [
    {
     "data": {
      "text/html": [
       "<div>\n",
       "<style scoped>\n",
       "    .dataframe tbody tr th:only-of-type {\n",
       "        vertical-align: middle;\n",
       "    }\n",
       "\n",
       "    .dataframe tbody tr th {\n",
       "        vertical-align: top;\n",
       "    }\n",
       "\n",
       "    .dataframe thead th {\n",
       "        text-align: right;\n",
       "    }\n",
       "</style>\n",
       "<table border=\"1\" class=\"dataframe\">\n",
       "  <thead>\n",
       "    <tr style=\"text-align: right;\">\n",
       "      <th></th>\n",
       "      <th>id_prod</th>\n",
       "      <th>price</th>\n",
       "      <th>categ</th>\n",
       "      <th>date</th>\n",
       "      <th>session_id</th>\n",
       "      <th>client_id</th>\n",
       "      <th>date_cleaned</th>\n",
       "      <th>time</th>\n",
       "      <th>sex</th>\n",
       "      <th>birth</th>\n",
       "      <th>month</th>\n",
       "    </tr>\n",
       "  </thead>\n",
       "  <tbody>\n",
       "    <tr>\n",
       "      <th>0</th>\n",
       "      <td>0_1421</td>\n",
       "      <td>19.99</td>\n",
       "      <td>0</td>\n",
       "      <td>2021-05-12 23:26:29.885083</td>\n",
       "      <td>s_33709</td>\n",
       "      <td>c_7954</td>\n",
       "      <td>2021-05-12</td>\n",
       "      <td>23:26:29</td>\n",
       "      <td>m</td>\n",
       "      <td>1973</td>\n",
       "      <td>05</td>\n",
       "    </tr>\n",
       "    <tr>\n",
       "      <th>1</th>\n",
       "      <td>0_1142</td>\n",
       "      <td>3.42</td>\n",
       "      <td>0</td>\n",
       "      <td>2021-03-24 00:54:59.507581</td>\n",
       "      <td>s_10590</td>\n",
       "      <td>c_7954</td>\n",
       "      <td>2021-03-24</td>\n",
       "      <td>00:54:59</td>\n",
       "      <td>m</td>\n",
       "      <td>1973</td>\n",
       "      <td>03</td>\n",
       "    </tr>\n",
       "    <tr>\n",
       "      <th>2</th>\n",
       "      <td>0_1446</td>\n",
       "      <td>8.09</td>\n",
       "      <td>0</td>\n",
       "      <td>2021-11-26 18:04:33.019608</td>\n",
       "      <td>s_125461</td>\n",
       "      <td>c_7954</td>\n",
       "      <td>2021-11-26</td>\n",
       "      <td>18:04:33</td>\n",
       "      <td>m</td>\n",
       "      <td>1973</td>\n",
       "      <td>11</td>\n",
       "    </tr>\n",
       "    <tr>\n",
       "      <th>3</th>\n",
       "      <td>0_2291</td>\n",
       "      <td>12.99</td>\n",
       "      <td>0</td>\n",
       "      <td>2021-05-29 18:25:02.094891</td>\n",
       "      <td>s_41299</td>\n",
       "      <td>c_7954</td>\n",
       "      <td>2021-05-29</td>\n",
       "      <td>18:25:02</td>\n",
       "      <td>m</td>\n",
       "      <td>1973</td>\n",
       "      <td>05</td>\n",
       "    </tr>\n",
       "    <tr>\n",
       "      <th>4</th>\n",
       "      <td>1_385</td>\n",
       "      <td>25.99</td>\n",
       "      <td>1</td>\n",
       "      <td>2021-06-01 20:41:40.157683</td>\n",
       "      <td>s_42731</td>\n",
       "      <td>c_7954</td>\n",
       "      <td>2021-06-01</td>\n",
       "      <td>20:41:40</td>\n",
       "      <td>m</td>\n",
       "      <td>1973</td>\n",
       "      <td>06</td>\n",
       "    </tr>\n",
       "    <tr>\n",
       "      <th>...</th>\n",
       "      <td>...</td>\n",
       "      <td>...</td>\n",
       "      <td>...</td>\n",
       "      <td>...</td>\n",
       "      <td>...</td>\n",
       "      <td>...</td>\n",
       "      <td>...</td>\n",
       "      <td>...</td>\n",
       "      <td>...</td>\n",
       "      <td>...</td>\n",
       "      <td>...</td>\n",
       "    </tr>\n",
       "    <tr>\n",
       "      <th>277841</th>\n",
       "      <td>2_98</td>\n",
       "      <td>149.74</td>\n",
       "      <td>2</td>\n",
       "      <td>2021-03-08 21:10:32.250919</td>\n",
       "      <td>s_3637</td>\n",
       "      <td>c_5967</td>\n",
       "      <td>2021-03-08</td>\n",
       "      <td>21:10:32</td>\n",
       "      <td>f</td>\n",
       "      <td>2003</td>\n",
       "      <td>03</td>\n",
       "    </tr>\n",
       "    <tr>\n",
       "      <th>277842</th>\n",
       "      <td>1_459</td>\n",
       "      <td>15.99</td>\n",
       "      <td>1</td>\n",
       "      <td>2021-06-07 19:19:46.676117</td>\n",
       "      <td>s_45465</td>\n",
       "      <td>c_2862</td>\n",
       "      <td>2021-06-07</td>\n",
       "      <td>19:19:46</td>\n",
       "      <td>m</td>\n",
       "      <td>1998</td>\n",
       "      <td>06</td>\n",
       "    </tr>\n",
       "    <tr>\n",
       "      <th>277843</th>\n",
       "      <td>1_389</td>\n",
       "      <td>24.99</td>\n",
       "      <td>1</td>\n",
       "      <td>2021-09-17 15:55:27.847407</td>\n",
       "      <td>s_91336</td>\n",
       "      <td>c_8354</td>\n",
       "      <td>2021-09-17</td>\n",
       "      <td>15:55:27</td>\n",
       "      <td>f</td>\n",
       "      <td>2002</td>\n",
       "      <td>09</td>\n",
       "    </tr>\n",
       "    <tr>\n",
       "      <th>277844</th>\n",
       "      <td>0_266</td>\n",
       "      <td>18.96</td>\n",
       "      <td>0</td>\n",
       "      <td>2021-05-04 01:46:45.375087</td>\n",
       "      <td>s_29571</td>\n",
       "      <td>c_8354</td>\n",
       "      <td>2021-05-04</td>\n",
       "      <td>01:46:45</td>\n",
       "      <td>f</td>\n",
       "      <td>2002</td>\n",
       "      <td>05</td>\n",
       "    </tr>\n",
       "    <tr>\n",
       "      <th>277845</th>\n",
       "      <td>2_101</td>\n",
       "      <td>63.99</td>\n",
       "      <td>2</td>\n",
       "      <td>2021-07-21 09:11:12.619736</td>\n",
       "      <td>s_65192</td>\n",
       "      <td>c_7089</td>\n",
       "      <td>2021-07-21</td>\n",
       "      <td>09:11:12</td>\n",
       "      <td>m</td>\n",
       "      <td>2002</td>\n",
       "      <td>07</td>\n",
       "    </tr>\n",
       "  </tbody>\n",
       "</table>\n",
       "<p>277846 rows × 11 columns</p>\n",
       "</div>"
      ],
      "text/plain": [
       "       id_prod   price  categ                        date session_id  \\\n",
       "0       0_1421   19.99      0  2021-05-12 23:26:29.885083    s_33709   \n",
       "1       0_1142    3.42      0  2021-03-24 00:54:59.507581    s_10590   \n",
       "2       0_1446    8.09      0  2021-11-26 18:04:33.019608   s_125461   \n",
       "3       0_2291   12.99      0  2021-05-29 18:25:02.094891    s_41299   \n",
       "4        1_385   25.99      1  2021-06-01 20:41:40.157683    s_42731   \n",
       "...        ...     ...    ...                         ...        ...   \n",
       "277841    2_98  149.74      2  2021-03-08 21:10:32.250919     s_3637   \n",
       "277842   1_459   15.99      1  2021-06-07 19:19:46.676117    s_45465   \n",
       "277843   1_389   24.99      1  2021-09-17 15:55:27.847407    s_91336   \n",
       "277844   0_266   18.96      0  2021-05-04 01:46:45.375087    s_29571   \n",
       "277845   2_101   63.99      2  2021-07-21 09:11:12.619736    s_65192   \n",
       "\n",
       "       client_id date_cleaned      time sex  birth month  \n",
       "0         c_7954   2021-05-12  23:26:29   m   1973    05  \n",
       "1         c_7954   2021-03-24  00:54:59   m   1973    03  \n",
       "2         c_7954   2021-11-26  18:04:33   m   1973    11  \n",
       "3         c_7954   2021-05-29  18:25:02   m   1973    05  \n",
       "4         c_7954   2021-06-01  20:41:40   m   1973    06  \n",
       "...          ...          ...       ...  ..    ...   ...  \n",
       "277841    c_5967   2021-03-08  21:10:32   f   2003    03  \n",
       "277842    c_2862   2021-06-07  19:19:46   m   1998    06  \n",
       "277843    c_8354   2021-09-17  15:55:27   f   2002    09  \n",
       "277844    c_8354   2021-05-04  01:46:45   f   2002    05  \n",
       "277845    c_7089   2021-07-21  09:11:12   m   2002    07  \n",
       "\n",
       "[277846 rows x 11 columns]"
      ]
     },
     "execution_count": 155,
     "metadata": {},
     "output_type": "execute_result"
    }
   ],
   "source": [
    "df_all"
   ]
  },
  {
   "cell_type": "code",
   "execution_count": 243,
   "id": "cf59c3e9",
   "metadata": {},
   "outputs": [
    {
     "data": {
      "image/png": "[encoded data removed]",
      "text/plain": [
       "<Figure size 432x288 with 1 Axes>"
      ]
     },
     "metadata": {
      "needs_background": "light"
     },
     "output_type": "display_data"
    },
    {
     "data": {
      "text/html": [
       "<div>\n",
       "<style scoped>\n",
       "    .dataframe tbody tr th:only-of-type {\n",
       "        vertical-align: middle;\n",
       "    }\n",
       "\n",
       "    .dataframe tbody tr th {\n",
       "        vertical-align: top;\n",
       "    }\n",
       "\n",
       "    .dataframe thead th {\n",
       "        text-align: right;\n",
       "    }\n",
       "</style>\n",
       "<table border=\"1\" class=\"dataframe\">\n",
       "  <thead>\n",
       "    <tr style=\"text-align: right;\">\n",
       "      <th></th>\n",
       "      <th>price</th>\n",
       "    </tr>\n",
       "    <tr>\n",
       "      <th>month</th>\n",
       "      <th></th>\n",
       "    </tr>\n",
       "  </thead>\n",
       "  <tbody>\n",
       "    <tr>\n",
       "      <th>03</th>\n",
       "      <td>193566.38</td>\n",
       "    </tr>\n",
       "    <tr>\n",
       "      <th>04</th>\n",
       "      <td>205159.67</td>\n",
       "    </tr>\n",
       "    <tr>\n",
       "      <th>05</th>\n",
       "      <td>196114.96</td>\n",
       "    </tr>\n",
       "    <tr>\n",
       "      <th>06</th>\n",
       "      <td>167886.34</td>\n",
       "    </tr>\n",
       "    <tr>\n",
       "      <th>07</th>\n",
       "      <td>144711.92</td>\n",
       "    </tr>\n",
       "    <tr>\n",
       "      <th>08</th>\n",
       "      <td>167677.82</td>\n",
       "    </tr>\n",
       "    <tr>\n",
       "      <th>09</th>\n",
       "      <td>246264.21</td>\n",
       "    </tr>\n",
       "    <tr>\n",
       "      <th>10</th>\n",
       "      <td>199217.94</td>\n",
       "    </tr>\n",
       "    <tr>\n",
       "      <th>11</th>\n",
       "      <td>155843.78</td>\n",
       "    </tr>\n",
       "    <tr>\n",
       "      <th>12</th>\n",
       "      <td>205976.44</td>\n",
       "    </tr>\n",
       "  </tbody>\n",
       "</table>\n",
       "</div>"
      ],
      "text/plain": [
       "           price\n",
       "month           \n",
       "03     193566.38\n",
       "04     205159.67\n",
       "05     196114.96\n",
       "06     167886.34\n",
       "07     144711.92\n",
       "08     167677.82\n",
       "09     246264.21\n",
       "10     199217.94\n",
       "11     155843.78\n",
       "12     205976.44"
      ]
     },
     "execution_count": 243,
     "metadata": {},
     "output_type": "execute_result"
    }
   ],
   "source": [
    "df_cat_month_price = df_all.groupby(['categ', 'month']).agg({ \"price\" : np.sum })\n",
    "df_cat_month_price.plot.bar()\n",
    "plt.show()"
   ]
  },
  {
   "cell_type": "markdown",
   "id": "8ec3ca84",
   "metadata": {},
   "source": [
    "C'est pas fou mais c'est lisible, j'ai fait mieux plus bas"
   ]
  },
  {
   "cell_type": "code",
   "execution_count": 219,
   "id": "18a67dae",
   "metadata": {},
   "outputs": [
    {
     "data": {
      "text/html": [
       "<div>\n",
       "<style scoped>\n",
       "    .dataframe tbody tr th:only-of-type {\n",
       "        vertical-align: middle;\n",
       "    }\n",
       "\n",
       "    .dataframe tbody tr th {\n",
       "        vertical-align: top;\n",
       "    }\n",
       "\n",
       "    .dataframe thead th {\n",
       "        text-align: right;\n",
       "    }\n",
       "</style>\n",
       "<table border=\"1\" class=\"dataframe\">\n",
       "  <thead>\n",
       "    <tr style=\"text-align: right;\">\n",
       "      <th></th>\n",
       "      <th>month</th>\n",
       "      <th>price_cat_0</th>\n",
       "      <th>price_cat_1</th>\n",
       "      <th>price_cat_2</th>\n",
       "    </tr>\n",
       "  </thead>\n",
       "  <tbody>\n",
       "    <tr>\n",
       "      <th>0</th>\n",
       "      <td>03</td>\n",
       "      <td>193566.38</td>\n",
       "      <td>186974.17</td>\n",
       "      <td>98771.48</td>\n",
       "    </tr>\n",
       "    <tr>\n",
       "      <th>1</th>\n",
       "      <td>04</td>\n",
       "      <td>205159.67</td>\n",
       "      <td>156138.35</td>\n",
       "      <td>111682.70</td>\n",
       "    </tr>\n",
       "    <tr>\n",
       "      <th>2</th>\n",
       "      <td>05</td>\n",
       "      <td>196114.96</td>\n",
       "      <td>165893.40</td>\n",
       "      <td>127359.59</td>\n",
       "    </tr>\n",
       "    <tr>\n",
       "      <th>3</th>\n",
       "      <td>06</td>\n",
       "      <td>167886.34</td>\n",
       "      <td>189162.04</td>\n",
       "      <td>124209.56</td>\n",
       "    </tr>\n",
       "    <tr>\n",
       "      <th>4</th>\n",
       "      <td>07</td>\n",
       "      <td>144711.92</td>\n",
       "      <td>188523.27</td>\n",
       "      <td>147663.47</td>\n",
       "    </tr>\n",
       "    <tr>\n",
       "      <th>5</th>\n",
       "      <td>08</td>\n",
       "      <td>167677.82</td>\n",
       "      <td>162991.38</td>\n",
       "      <td>148635.99</td>\n",
       "    </tr>\n",
       "    <tr>\n",
       "      <th>6</th>\n",
       "      <td>09</td>\n",
       "      <td>246264.21</td>\n",
       "      <td>190613.78</td>\n",
       "      <td>65893.29</td>\n",
       "    </tr>\n",
       "    <tr>\n",
       "      <th>7</th>\n",
       "      <td>10</td>\n",
       "      <td>199217.94</td>\n",
       "      <td>33762.32</td>\n",
       "      <td>86179.70</td>\n",
       "    </tr>\n",
       "    <tr>\n",
       "      <th>8</th>\n",
       "      <td>11</td>\n",
       "      <td>155843.78</td>\n",
       "      <td>252910.39</td>\n",
       "      <td>104136.00</td>\n",
       "    </tr>\n",
       "    <tr>\n",
       "      <th>9</th>\n",
       "      <td>12</td>\n",
       "      <td>205976.44</td>\n",
       "      <td>251026.75</td>\n",
       "      <td>65934.49</td>\n",
       "    </tr>\n",
       "  </tbody>\n",
       "</table>\n",
       "</div>"
      ],
      "text/plain": [
       "  month  price_cat_0  price_cat_1  price_cat_2\n",
       "0    03    193566.38    186974.17     98771.48\n",
       "1    04    205159.67    156138.35    111682.70\n",
       "2    05    196114.96    165893.40    127359.59\n",
       "3    06    167886.34    189162.04    124209.56\n",
       "4    07    144711.92    188523.27    147663.47\n",
       "5    08    167677.82    162991.38    148635.99\n",
       "6    09    246264.21    190613.78     65893.29\n",
       "7    10    199217.94     33762.32     86179.70\n",
       "8    11    155843.78    252910.39    104136.00\n",
       "9    12    205976.44    251026.75     65934.49"
      ]
     },
     "execution_count": 219,
     "metadata": {},
     "output_type": "execute_result"
    }
   ],
   "source": [
    "df1 = df_cat_month_price.loc[0].reset_index().rename(columns={'price': 'price_cat_0'})\n",
    "df2 = df_cat_month_price.loc[1].reset_index().rename(columns={'price': 'price_cat_1'}) \n",
    "df3 = df_cat_month_price.loc[2].reset_index().rename(columns={'price': 'price_cat_2'}) \n",
    "df_cat_month_price"
   ]
  },
  {
   "cell_type": "code",
   "execution_count": 215,
   "id": "15202d4e",
   "metadata": {},
   "outputs": [
    {
     "data": {
      "image/png": "[encoded data removed]",
      "text/plain": [
       "<Figure size 432x288 with 1 Axes>"
      ]
     },
     "metadata": {
      "needs_background": "light"
     },
     "output_type": "display_data"
    }
   ],
   "source": [
    "plt.plot(df_cat_month_price.month, df_cat_month_price.price_cat_0, label='Cat 0')\n",
    "plt.plot(df_cat_month_price.month, df_cat_month_price.price_cat_1, label='Cat 1')\n",
    "plt.plot(df_cat_month_price.month, df_cat_month_price.price_cat_2, label='Cat 2')\n",
    "\n",
    "plt.legend(loc='upper left', frameon=False)\n",
    "plt.title(\"CA / cat sur l'année\")\n",
    "\n",
    "plt.show()"
   ]
  },
  {
   "cell_type": "markdown",
   "id": "0ba50d45",
   "metadata": {},
   "source": [
    "### Nous souhaitons un graphe qui donne un boxplot de la répartion des prix d'un produit pour chaque catégorie. En clair, le graphe montre 3 boxplots (un qui correspond à la catégorie 0, un à la catégorie 1 et un à la catégorie 2).\n",
    "\n"
   ]
  },
  {
   "cell_type": "code",
   "execution_count": 216,
   "id": "a9a588d0",
   "metadata": {},
   "outputs": [
    {
     "data": {
      "text/plain": [
       "<AxesSubplot:>"
      ]
     },
     "execution_count": 216,
     "metadata": {},
     "output_type": "execute_result"
    },
    {
     "data": {
      "image/png": "[encoded data removed]",
      "text/plain": [
       "<Figure size 432x288 with 1 Axes>"
      ]
     },
     "metadata": {
      "needs_background": "light"
     },
     "output_type": "display_data"
    }
   ],
   "source": [
    "subset = df_all[df_all.categ == 0]\n",
    "subset.boxplot(column=\"price\", vert=False)"
   ]
  },
  {
   "cell_type": "code",
   "execution_count": 217,
   "id": "0607c57c",
   "metadata": {},
   "outputs": [
    {
     "data": {
      "text/plain": [
       "<AxesSubplot:>"
      ]
     },
     "execution_count": 217,
     "metadata": {},
     "output_type": "execute_result"
    },
    {
     "data": {
      "image/png": "[encoded data removed]",
      "text/plain": [
       "<Figure size 432x288 with 1 Axes>"
      ]
     },
     "metadata": {
      "needs_background": "light"
     },
     "output_type": "display_data"
    }
   ],
   "source": [
    "subset = df_all[df_all.categ == 1]\n",
    "subset.boxplot(column=\"price\", vert=False)"
   ]
  },
  {
   "cell_type": "code",
   "execution_count": 218,
   "id": "f57bab80",
   "metadata": {},
   "outputs": [
    {
     "data": {
      "text/plain": [
       "<AxesSubplot:>"
      ]
     },
     "execution_count": 218,
     "metadata": {},
     "output_type": "execute_result"
    },
    {
     "data": {
      "image/png": "[encoded data removed]",
      "text/plain": [
       "<Figure size 432x288 with 1 Axes>"
      ]
     },
     "metadata": {
      "needs_background": "light"
     },
     "output_type": "display_data"
    }
   ],
   "source": [
    "subset = df_all[df_all.categ == 2]\n",
    "subset.boxplot(column=\"price\", vert=False)"
   ]
  },
  {
   "cell_type": "markdown",
   "id": "1ce207f1",
   "metadata": {},
   "source": [
    "### Nous souhaitons un graphe qui donne la répartition du CA, pour chaque mois, en fonction du genre du client.\n",
    "\n"
   ]
  },
  {
   "cell_type": "code",
   "execution_count": 241,
   "id": "51117c50",
   "metadata": {},
   "outputs": [
    {
     "data": {
      "text/plain": [
       "<AxesSubplot:xlabel='sex,month'>"
      ]
     },
     "execution_count": 241,
     "metadata": {},
     "output_type": "execute_result"
    },
    {
     "data": {
      "image/png": "[encoded data removed]",
      "text/plain": [
       "<Figure size 432x288 with 1 Axes>"
      ]
     },
     "metadata": {
      "needs_background": "light"
     },
     "output_type": "display_data"
    }
   ],
   "source": [
    "df_sex_month_price = df_all.groupby(['sex', 'month']).agg({ \"price\" : np.sum })\n",
    "df_sex_month_price.plot.bar()"
   ]
  },
  {
   "cell_type": "markdown",
   "id": "c22b6ffc",
   "metadata": {},
   "source": [
    "Bon, ça ira"
   ]
  },
  {
   "cell_type": "markdown",
   "id": "e018b7c8",
   "metadata": {},
   "source": [
    "### Nous souhaitons un graphe qui, pour chaque transaction, lie tranche d'âge du client et montant de la transaction.\n",
    "\n"
   ]
  },
  {
   "cell_type": "code",
   "execution_count": 244,
   "id": "3b65463e",
   "metadata": {},
   "outputs": [
    {
     "data": {
      "text/plain": [
       "<matplotlib.collections.PathCollection at 0x7fafc5b078b0>"
      ]
     },
     "execution_count": 244,
     "metadata": {},
     "output_type": "execute_result"
    },
    {
     "data": {
      "image/png": "[encoded data removed]",
      "text/plain": [
       "<Figure size 432x288 with 1 Axes>"
      ]
     },
     "metadata": {
      "needs_background": "light"
     },
     "output_type": "display_data"
    }
   ],
   "source": [
    "plt.scatter(df_all.birth, df_all.price)"
   ]
  },
  {
   "cell_type": "markdown",
   "id": "86e7c529",
   "metadata": {},
   "source": [
    "### Nous souhaitons un graphe qui, pour chaque article, lie prix et nombre d'articles vendus pendant la période.\n",
    "\n"
   ]
  },
  {
   "cell_type": "code",
   "execution_count": 288,
   "id": "d2ef3721",
   "metadata": {},
   "outputs": [
    {
     "data": {
      "text/html": [
       "<div>\n",
       "<style scoped>\n",
       "    .dataframe tbody tr th:only-of-type {\n",
       "        vertical-align: middle;\n",
       "    }\n",
       "\n",
       "    .dataframe tbody tr th {\n",
       "        vertical-align: top;\n",
       "    }\n",
       "\n",
       "    .dataframe thead th {\n",
       "        text-align: right;\n",
       "    }\n",
       "</style>\n",
       "<table border=\"1\" class=\"dataframe\">\n",
       "  <thead>\n",
       "    <tr style=\"text-align: right;\">\n",
       "      <th></th>\n",
       "      <th>id_prod</th>\n",
       "      <th>price</th>\n",
       "      <th>count_total</th>\n",
       "    </tr>\n",
       "  </thead>\n",
       "  <tbody>\n",
       "    <tr>\n",
       "      <th>0</th>\n",
       "      <td>0_0</td>\n",
       "      <td>3.75</td>\n",
       "      <td>526</td>\n",
       "    </tr>\n",
       "    <tr>\n",
       "      <th>1</th>\n",
       "      <td>0_1</td>\n",
       "      <td>10.99</td>\n",
       "      <td>207</td>\n",
       "    </tr>\n",
       "    <tr>\n",
       "      <th>2</th>\n",
       "      <td>0_10</td>\n",
       "      <td>17.95</td>\n",
       "      <td>11</td>\n",
       "    </tr>\n",
       "    <tr>\n",
       "      <th>3</th>\n",
       "      <td>0_100</td>\n",
       "      <td>20.60</td>\n",
       "      <td>2</td>\n",
       "    </tr>\n",
       "    <tr>\n",
       "      <th>4</th>\n",
       "      <td>0_1000</td>\n",
       "      <td>6.84</td>\n",
       "      <td>188</td>\n",
       "    </tr>\n",
       "    <tr>\n",
       "      <th>...</th>\n",
       "      <td>...</td>\n",
       "      <td>...</td>\n",
       "      <td>...</td>\n",
       "    </tr>\n",
       "    <tr>\n",
       "      <th>3247</th>\n",
       "      <td>2_95</td>\n",
       "      <td>98.99</td>\n",
       "      <td>1</td>\n",
       "    </tr>\n",
       "    <tr>\n",
       "      <th>3248</th>\n",
       "      <td>2_96</td>\n",
       "      <td>47.91</td>\n",
       "      <td>231</td>\n",
       "    </tr>\n",
       "    <tr>\n",
       "      <th>3249</th>\n",
       "      <td>2_97</td>\n",
       "      <td>160.99</td>\n",
       "      <td>3</td>\n",
       "    </tr>\n",
       "    <tr>\n",
       "      <th>3250</th>\n",
       "      <td>2_98</td>\n",
       "      <td>149.74</td>\n",
       "      <td>1</td>\n",
       "    </tr>\n",
       "    <tr>\n",
       "      <th>3251</th>\n",
       "      <td>2_99</td>\n",
       "      <td>84.99</td>\n",
       "      <td>2</td>\n",
       "    </tr>\n",
       "  </tbody>\n",
       "</table>\n",
       "<p>3252 rows × 3 columns</p>\n",
       "</div>"
      ],
      "text/plain": [
       "     id_prod   price  count_total\n",
       "0        0_0    3.75          526\n",
       "1        0_1   10.99          207\n",
       "2       0_10   17.95           11\n",
       "3      0_100   20.60            2\n",
       "4     0_1000    6.84          188\n",
       "...      ...     ...          ...\n",
       "3247    2_95   98.99            1\n",
       "3248    2_96   47.91          231\n",
       "3249    2_97  160.99            3\n",
       "3250    2_98  149.74            1\n",
       "3251    2_99   84.99            2\n",
       "\n",
       "[3252 rows x 3 columns]"
      ]
     },
     "execution_count": 288,
     "metadata": {},
     "output_type": "execute_result"
    }
   ],
   "source": [
    "group = df_all.groupby(['id_prod'])\n",
    "df_test = group.agg({ 'price': np.mean })\n",
    "df_test['count_total'] = group.count()[\"price\"]\n",
    "\n",
    "df_test = df_test.reset_index()\n",
    "df_test\n",
    "#plt.scatter(df_test.price, df_test.count)"
   ]
  },
  {
   "cell_type": "code",
   "execution_count": 289,
   "id": "2d8fec28",
   "metadata": {},
   "outputs": [
    {
     "data": {
      "text/html": [
       "<div>\n",
       "<style scoped>\n",
       "    .dataframe tbody tr th:only-of-type {\n",
       "        vertical-align: middle;\n",
       "    }\n",
       "\n",
       "    .dataframe tbody tr th {\n",
       "        vertical-align: top;\n",
       "    }\n",
       "\n",
       "    .dataframe thead th {\n",
       "        text-align: right;\n",
       "    }\n",
       "</style>\n",
       "<table border=\"1\" class=\"dataframe\">\n",
       "  <thead>\n",
       "    <tr style=\"text-align: right;\">\n",
       "      <th></th>\n",
       "      <th>price</th>\n",
       "      <th>count_total</th>\n",
       "    </tr>\n",
       "  </thead>\n",
       "  <tbody>\n",
       "    <tr>\n",
       "      <th>price</th>\n",
       "      <td>1.000000</td>\n",
       "      <td>-0.101249</td>\n",
       "    </tr>\n",
       "    <tr>\n",
       "      <th>count_total</th>\n",
       "      <td>-0.101249</td>\n",
       "      <td>1.000000</td>\n",
       "    </tr>\n",
       "  </tbody>\n",
       "</table>\n",
       "</div>"
      ],
      "text/plain": [
       "                price  count_total\n",
       "price        1.000000    -0.101249\n",
       "count_total -0.101249     1.000000"
      ]
     },
     "execution_count": 289,
     "metadata": {},
     "output_type": "execute_result"
    }
   ],
   "source": [
    "df_test.corr()"
   ]
  },
  {
   "cell_type": "markdown",
   "id": "5075bbf9",
   "metadata": {},
   "source": [
    "pas de corrélation à priori"
   ]
  },
  {
   "cell_type": "code",
   "execution_count": 294,
   "id": "ab6b5281",
   "metadata": {},
   "outputs": [
    {
     "data": {
      "text/plain": [
       "<AxesSubplot:xlabel='price', ylabel='count_total'>"
      ]
     },
     "execution_count": 294,
     "metadata": {},
     "output_type": "execute_result"
    },
    {
     "data": {
      "image/png": "[encoded data removed]",
      "text/plain": [
       "<Figure size 432x288 with 1 Axes>"
      ]
     },
     "metadata": {
      "needs_background": "light"
     },
     "output_type": "display_data"
    }
   ],
   "source": [
    "x = df_test.price\n",
    "y = df_test.count_total\n",
    "sns.kdeplot(x=x, y=y,shade = True, thresh=0)\n"
   ]
  },
  {
   "cell_type": "code",
   "execution_count": null,
   "id": "7812aca1",
   "metadata": {},
   "outputs": [],
   "source": []
  }
 ],
 "metadata": {
  "kernelspec": {
   "display_name": "Python 3",
   "language": "python",
   "name": "python3"
  },
  "language_info": {
   "codemirror_mode": {
    "name": "ipython",
    "version": 3
   },
   "file_extension": ".py",
   "mimetype": "text/x-python",
   "name": "python",
   "nbconvert_exporter": "python",
   "pygments_lexer": "ipython3",
   "version": "3.8.8"
  }
 },
 "nbformat": 4,
 "nbformat_minor": 5
}
